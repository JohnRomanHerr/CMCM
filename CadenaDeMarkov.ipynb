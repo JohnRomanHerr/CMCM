{
 "cells": [
  {
   "cell_type": "code",
   "execution_count": 304,
   "metadata": {},
   "outputs": [
    {
     "name": "stdout",
     "output_type": "stream",
     "text": [
      "Populating the interactive namespace from numpy and matplotlib\n"
     ]
    }
   ],
   "source": [
    "%pylab inline\n",
    "import numpy as np\n",
    "import random as rn\n",
    "import matplotlib.pyplot as plt\n",
    "from math import exp, expm1"
   ]
  },
  {
   "cell_type": "markdown",
   "metadata": {},
   "source": [
    "Ahora para generar los datos usamos los mismos que en la tarea anterior"
   ]
  },
  {
   "cell_type": "code",
   "execution_count": 455,
   "metadata": {
    "scrolled": true
   },
   "outputs": [
    {
     "data": {
      "image/png": "[encoded data removed]",
      "text/plain": [
       "<Figure size 432x288 with 1 Axes>"
      ]
     },
     "metadata": {},
     "output_type": "display_data"
    }
   ],
   "source": [
    "Num= 10 #numero de datos\n",
    "C_i= 0. #cota inferior\n",
    "C_s= 10. #Cota superior\n",
    "\n",
    "a = np.random.uniform(C_i, C_s, Num)\n",
    "x=sort(a)\n",
    "d = np.random.uniform(0.0,1,len(x))\n",
    "y = x+d\n",
    "# para sus barras de error\n",
    "x_e=np.random.normal(0.1,0.4,len(x))\n",
    "y_e=np.random.normal(0.1,0.4,len(y))\n",
    "# graficar\n",
    "plt.plot(x,y,'o',color='b')\n",
    "plt.errorbar(x,y,xerr=x_e,yerr=y_e,fmt='ms',ecolor='r')\n",
    "plt.grid(True)"
   ]
  },
  {
   "cell_type": "markdown",
   "metadata": {},
   "source": []
  },
  {
   "cell_type": "code",
   "execution_count": 533,
   "metadata": {},
   "outputs": [],
   "source": [
    "def chi(x,m,b):\n",
    "    return m*x+b\n",
    "chi_2= lambda m,b:(((y-modelo(x,m,b))**2)/(y_e)**2).sum()\n",
    "chi_2= np.vectorize(chi_2)"
   ]
  },
  {
   "cell_type": "code",
   "execution_count": 534,
   "metadata": {},
   "outputs": [],
   "source": [
    "pendiente=np.random.uniform(1,1.23,10**5)\n",
    "ordenada =np.random.uniform(-0.1,0,10**5)\n",
    "\n",
    "pendiente.sort()\n",
    "ordenada.sort()\n"
   ]
  },
  {
   "cell_type": "code",
   "execution_count": 535,
   "metadata": {},
   "outputs": [
    {
     "name": "stdout",
     "output_type": "stream",
     "text": [
      "$\\chi^2$\n",
      "(array([86902], dtype=int32),)\n",
      "Pendiente\n",
      "[1.19999416]\n",
      "Ordenada\n",
      "[-0.01310879]\n",
      "Que le corresponde a una $\\chi^2$\n",
      "[28120.13177476]\n"
     ]
    },
    {
     "data": {
      "image/png": "[encoded data removed]",
      "text/plain": [
       "<Figure size 432x288 with 1 Axes>"
      ]
     },
     "metadata": {},
     "output_type": "display_data"
    }
   ],
   "source": [
    "chi_sq = chi_2(pendiente,ordenada)\n",
    "print ('$\\chi^2$')\n",
    "plot(chi_sq)\n",
    "print(minimo_valor)\n",
    "minimo_valor=np.where(chi_sq == np.min(chi_sq ))\n",
    "m_mejor= pendiente[minimo_valor]\n",
    "b_mejor= ordenada[minimo_valor]\n",
    "chi_mejor=chi_sq[minimo_valor]\n",
    "print ('Pendiente')\n",
    "print(m_mejor)\n",
    "print('Ordenada')\n",
    "print(b_mejor)\n",
    "print('Que le corresponde a una $\\chi^2$')\n",
    "print(chi_mejor)\n"
   ]
  },
  {
   "cell_type": "code",
   "execution_count": 536,
   "metadata": {},
   "outputs": [
    {
     "data": {
      "image/png": "[encoded data removed]",
      "text/plain": [
       "<Figure size 432x288 with 1 Axes>"
      ]
     },
     "metadata": {},
     "output_type": "display_data"
    }
   ],
   "source": [
    "plt.plot(x,chi(x, m_mejor, b_mejor))\n",
    "plt.plot(x,y,'.',color='b')\n",
    "plt.errorbar(x,y,xerr=x_e,yerr=y_e,fmt='ms',ecolor='r')\n",
    "plt.grid(True)"
   ]
  },
  {
   "cell_type": "markdown",
   "metadata": {},
   "source": [
    "Algoritmo Metropolis"
   ]
  },
  {
   "cell_type": "code",
   "execution_count": 546,
   "metadata": {},
   "outputs": [],
   "source": [
    "def likelihood(x,y,e_y,m,b):\n",
    "    k=np.prod(1./(np.sqrt(2.*np.pi)*y_e))\n",
    "    l=np.exp(-(y-(m*x+b)**2)/(2.*(y_e)**2))\n",
    "    return k*l\n",
    "\n",
    "def prior(m,b):\n",
    "    if (0<m<2) and (-2<b<2):\n",
    "        p=0\n",
    "        return p\n",
    "    else:\n",
    "        p=-np.infty\n",
    "        return p\n",
    "    return p\n"
   ]
  },
  {
   "cell_type": "code",
   "execution_count": null,
   "metadata": {},
   "outputs": [],
   "source": []
  },
  {
   "cell_type": "code",
   "execution_count": 581,
   "metadata": {},
   "outputs": [],
   "source": [
    "m_0=0.3\n",
    "m_00=m_0\n",
    "b_0=0.1\n",
    "\n",
    "sigma_m=0.01\n",
    "sigma_b=0.05\n",
    "#numero de pasos\n",
    "N=100\n",
    "\n",
    "#Contadores\n",
    "cadenam=[]\n",
    "cadenap=[]\n",
    "probs=[]\n",
    "#mList=[]\n",
    "#bList=[]\n",
    "\n",
    "#mList.append(m_0)\n",
    "#bList.append(b_0)\n",
    "#dentro=0\n"
   ]
  },
  {
   "cell_type": "code",
   "execution_count": 562,
   "metadata": {},
   "outputs": [],
   "source": [
    "m_New= np.random.normal(m_0,sigma_m)\n",
    "b_New=np.random.normal(b_0,sigma_b)\n",
    "#prob_New= likelihood(x,y,y_e,m_New,b_New)\n",
    "#print(prob_New)"
   ]
  },
  {
   "cell_type": "code",
   "execution_count": 627,
   "metadata": {},
   "outputs": [],
   "source": [
    "# MCMC\n",
    "for i in range(N):\n",
    "    m_New= np.random.normal(m_0,sigma_m)\n",
    "    b_New=np.random.normal(b_0,sigma_b)\n",
    "    if (prior(m_New,b_New)):\n",
    "        m_New=m_0\n",
    "        b_New=b_0\n",
    "        prob_New= likelihood(x,y,y_e,m_New,b_New)\n",
    "        prob_Old= likelihood(x,y,y_e,m_0,b_0)\n",
    "        dentroContador=1\n",
    "        print(1)\n",
    "        if ((prob_New/prob_Old)>1):\n",
    "            m_0=m_New\n",
    "            b_0=b_New\n",
    "            prob=prob_New\n",
    "            dentroContador=1\n",
    "            print(2)\n",
    "        else:\n",
    "            prob_test=np.random.uniform(0,1)\n",
    "            if (prob_test>prob_New/prob_Old):\n",
    "                m_0=m_0\n",
    "                b_0=b_0\n",
    "                prob=prob_Old\n",
    "                print(3)\n",
    "            else:\n",
    "                m_0=m_New\n",
    "                b_0=b_New\n",
    "                prob=prob_New\n",
    "                print(4)\n",
    "                \n",
    "                cadenam.append(m_0)\n",
    "                cadenap.append(p_0)\n",
    "        probs.append(prob)\n",
    "        mm=[m_0 for m_0,b_0 in cadenam]\n",
    "        bb=[b_0 for m_0,b_0 in cadenab]\n",
    "      \n",
    "        mejores=np.argmax(probs)\n",
    "        mejor_m=mm[mejores]\n",
    "        mejor_b=bb[mejores]\n",
    "        print(mm)\n",
    "\n",
    "#plot.scatter(mm,bb,s=3,lw=0)\n",
    "#plot.plot(mejor_m,mejor_b,'ko',label='Best m,b',markersize=5,markerfacecolor='r')\n",
    "#plt.show()\n",
    "#--------\n",
    "#plot(M_New,B_New)\n",
    "#scatter(mList,bList)\n",
    "#plt.show()"
   ]
  },
  {
   "cell_type": "code",
   "execution_count": 629,
   "metadata": {},
   "outputs": [
    {
     "ename": "AttributeError",
     "evalue": "'function' object has no attribute 'plot'",
     "output_type": "error",
     "traceback": [
      "\u001b[1;31m---------------------------------------------------------------------------\u001b[0m",
      "\u001b[1;31mAttributeError\u001b[0m                            Traceback (most recent call last)",
      "\u001b[1;32m<ipython-input-629-90757c1670e2>\u001b[0m in \u001b[0;36m<module>\u001b[1;34m()\u001b[0m\n\u001b[1;32m----> 1\u001b[1;33m \u001b[0mplot\u001b[0m\u001b[1;33m.\u001b[0m\u001b[0mplot\u001b[0m\u001b[1;33m(\u001b[0m\u001b[0mmm\u001b[0m\u001b[1;33m,\u001b[0m\u001b[0mbb\u001b[0m\u001b[1;33m,\u001b[0m\u001b[0ms\u001b[0m\u001b[1;33m=\u001b[0m\u001b[1;36m3\u001b[0m\u001b[1;33m,\u001b[0m\u001b[0mlw\u001b[0m\u001b[1;33m=\u001b[0m\u001b[1;36m0\u001b[0m\u001b[1;33m)\u001b[0m\u001b[1;33m\u001b[0m\u001b[0m\n\u001b[0m\u001b[0;32m      2\u001b[0m \u001b[0mplot\u001b[0m\u001b[1;33m.\u001b[0m\u001b[0mplot\u001b[0m\u001b[1;33m(\u001b[0m\u001b[0mmejor_m\u001b[0m\u001b[1;33m,\u001b[0m\u001b[0mmejor_b\u001b[0m\u001b[1;33m,\u001b[0m\u001b[1;34m'ko'\u001b[0m\u001b[1;33m,\u001b[0m\u001b[0mlabel\u001b[0m\u001b[1;33m=\u001b[0m\u001b[1;34m'Best m,b'\u001b[0m\u001b[1;33m,\u001b[0m\u001b[0mmarkersize\u001b[0m\u001b[1;33m=\u001b[0m\u001b[1;36m5\u001b[0m\u001b[1;33m,\u001b[0m\u001b[0mmarkerfacecolor\u001b[0m\u001b[1;33m=\u001b[0m\u001b[1;34m'r'\u001b[0m\u001b[1;33m)\u001b[0m\u001b[1;33m\u001b[0m\u001b[0m\n\u001b[0;32m      3\u001b[0m \u001b[0mplt\u001b[0m\u001b[1;33m.\u001b[0m\u001b[0mshow\u001b[0m\u001b[1;33m(\u001b[0m\u001b[1;33m)\u001b[0m\u001b[1;33m\u001b[0m\u001b[0m\n",
      "\u001b[1;31mAttributeError\u001b[0m: 'function' object has no attribute 'plot'"
     ]
    }
   ],
   "source": [
    "plot.plot(mm,bb,s=3,lw=0)\n",
    "plot.plot(mejor_m,mejor_b,'ko',label='Best m,b',markersize=5,markerfacecolor='r')\n",
    "plt.show()"
   ]
  },
  {
   "cell_type": "code",
   "execution_count": 307,
   "metadata": {},
   "outputs": [],
   "source": [
    "\n",
    "\n"
   ]
  },
  {
   "cell_type": "code",
   "execution_count": null,
   "metadata": {},
   "outputs": [],
   "source": []
  },
  {
   "cell_type": "code",
   "execution_count": 337,
   "metadata": {},
   "outputs": [
    {
     "ename": "TypeError",
     "evalue": "only size-1 arrays can be converted to Python scalars",
     "output_type": "error",
     "traceback": [
      "\u001b[1;31m---------------------------------------------------------------------------\u001b[0m",
      "\u001b[1;31mTypeError\u001b[0m                                 Traceback (most recent call last)",
      "\u001b[1;32m<ipython-input-337-96b70e5ab0ce>\u001b[0m in \u001b[0;36m<module>\u001b[1;34m()\u001b[0m\n\u001b[0;32m     12\u001b[0m         \u001b[0mdentroContador\u001b[0m\u001b[1;33m=\u001b[0m\u001b[1;36m1\u001b[0m\u001b[1;33m\u001b[0m\u001b[0m\n\u001b[0;32m     13\u001b[0m     \u001b[1;32melse\u001b[0m\u001b[1;33m:\u001b[0m\u001b[1;33m\u001b[0m\u001b[0m\n\u001b[1;32m---> 14\u001b[1;33m         \u001b[0me\u001b[0m\u001b[1;33m=\u001b[0m\u001b[0mmath\u001b[0m\u001b[1;33m.\u001b[0m\u001b[0mexp\u001b[0m\u001b[1;33m(\u001b[0m\u001b[0mratio\u001b[0m\u001b[1;33m/\u001b[0m\u001b[1;36m2\u001b[0m\u001b[1;33m)\u001b[0m\u001b[1;33m\u001b[0m\u001b[0m\n\u001b[0m\u001b[0;32m     15\u001b[0m         \u001b[0male\u001b[0m\u001b[1;33m=\u001b[0m\u001b[0mnp\u001b[0m\u001b[1;33m.\u001b[0m\u001b[0mrandom\u001b[0m\u001b[1;33m.\u001b[0m\u001b[0muniform\u001b[0m\u001b[1;33m(\u001b[0m\u001b[1;36m0.0\u001b[0m\u001b[1;33m,\u001b[0m\u001b[1;36m1.0\u001b[0m\u001b[1;33m)\u001b[0m\u001b[1;33m\u001b[0m\u001b[0m\n\u001b[0;32m     16\u001b[0m         \u001b[1;32mif\u001b[0m \u001b[0me\u001b[0m\u001b[1;33m>\u001b[0m \u001b[0male\u001b[0m\u001b[1;33m:\u001b[0m\u001b[1;33m\u001b[0m\u001b[0m\n",
      "\u001b[1;31mTypeError\u001b[0m: only size-1 arrays can be converted to Python scalars"
     ]
    }
   ],
   "source": []
  },
  {
   "cell_type": "code",
   "execution_count": 91,
   "metadata": {},
   "outputs": [
    {
     "ename": "NameError",
     "evalue": "name 'data' is not defined",
     "output_type": "error",
     "traceback": [
      "\u001b[1;31m---------------------------------------------------------------------------\u001b[0m",
      "\u001b[1;31mNameError\u001b[0m                                 Traceback (most recent call last)",
      "\u001b[1;32m<ipython-input-91-5e22f459679f>\u001b[0m in \u001b[0;36m<module>\u001b[1;34m()\u001b[0m\n\u001b[0;32m     14\u001b[0m        \u001b[1;32melse\u001b[0m\u001b[1;33m:\u001b[0m\u001b[1;33m\u001b[0m\u001b[0m\n\u001b[0;32m     15\u001b[0m             \u001b[0mtheta_i\u001b[0m\u001b[1;33m=\u001b[0m\u001b[0mnp\u001b[0m\u001b[1;33m.\u001b[0m\u001b[0marray\u001b[0m\u001b[1;33m(\u001b[0m\u001b[1;33m[\u001b[0m\u001b[0mnp\u001b[0m\u001b[1;33m.\u001b[0m\u001b[0mrandom\u001b[0m\u001b[1;33m.\u001b[0m\u001b[0mnormal\u001b[0m\u001b[1;33m(\u001b[0m\u001b[0mtheta_0\u001b[0m\u001b[1;33m[\u001b[0m\u001b[1;36m0\u001b[0m\u001b[1;33m]\u001b[0m\u001b[1;33m,\u001b[0m\u001b[0mSigma_0\u001b[0m\u001b[1;33m)\u001b[0m\u001b[1;33m,\u001b[0m\u001b[0mnp\u001b[0m\u001b[1;33m.\u001b[0m\u001b[0mrandom\u001b[0m\u001b[1;33m.\u001b[0m\u001b[0mnormal\u001b[0m\u001b[1;33m(\u001b[0m\u001b[0mtheta_0\u001b[0m\u001b[1;33m[\u001b[0m\u001b[1;36m1\u001b[0m\u001b[1;33m]\u001b[0m\u001b[1;33m,\u001b[0m\u001b[0mSigma_1\u001b[0m\u001b[1;33m)\u001b[0m\u001b[1;33m]\u001b[0m\u001b[1;33m)\u001b[0m\u001b[1;33m\u001b[0m\u001b[0m\n\u001b[1;32m---> 16\u001b[1;33m             \u001b[0mtheta_nueva\u001b[0m\u001b[1;33m=\u001b[0m\u001b[0mCaDeMa\u001b[0m\u001b[1;33m(\u001b[0m\u001b[0mtheta_0\u001b[0m\u001b[1;33m,\u001b[0m\u001b[0mtheta_i\u001b[0m\u001b[1;33m)\u001b[0m\u001b[1;33m\u001b[0m\u001b[0m\n\u001b[0m\u001b[0;32m     17\u001b[0m             \u001b[0mcadena\u001b[0m\u001b[1;33m=\u001b[0m\u001b[0mnp\u001b[0m\u001b[1;33m.\u001b[0m\u001b[0mconcatenate\u001b[0m\u001b[1;33m(\u001b[0m\u001b[1;33m(\u001b[0m\u001b[0mcadena\u001b[0m\u001b[1;33m,\u001b[0m\u001b[0mtheta_nueva\u001b[0m\u001b[1;33m)\u001b[0m\u001b[1;33m)\u001b[0m\u001b[1;33m\u001b[0m\u001b[0m\n\u001b[0;32m     18\u001b[0m             \u001b[0mtheta_0\u001b[0m\u001b[1;33m=\u001b[0m\u001b[0mtheta_nueva\u001b[0m\u001b[1;33m\u001b[0m\u001b[0m\n",
      "\u001b[1;32m<ipython-input-90-07cdf825f976>\u001b[0m in \u001b[0;36mCaDeMa\u001b[1;34m(theta_0, theta_i)\u001b[0m\n\u001b[0;32m      3\u001b[0m     \u001b[1;32mif\u001b[0m \u001b[1;33m(\u001b[0m\u001b[0mlnprior\u001b[0m\u001b[1;33m(\u001b[0m\u001b[0mtheta_i\u001b[0m\u001b[1;33m)\u001b[0m\u001b[1;33m)\u001b[0m\u001b[1;33m:\u001b[0m\u001b[1;33m\u001b[0m\u001b[0m\n\u001b[0;32m      4\u001b[0m        \u001b[1;32mreturn\u001b[0m \u001b[0mtheta_0\u001b[0m\u001b[1;33m\u001b[0m\u001b[0m\n\u001b[1;32m----> 5\u001b[1;33m     \u001b[0mp_0\u001b[0m\u001b[1;33m=\u001b[0m\u001b[0mlnlike\u001b[0m\u001b[1;33m(\u001b[0m\u001b[0mtheta_0\u001b[0m\u001b[1;33m)\u001b[0m\u001b[1;33m\u001b[0m\u001b[0m\n\u001b[0m\u001b[0;32m      6\u001b[0m     \u001b[0mp_i\u001b[0m\u001b[1;33m=\u001b[0m\u001b[0mlnlike\u001b[0m\u001b[1;33m(\u001b[0m\u001b[0mtheta_i\u001b[0m\u001b[1;33m)\u001b[0m\u001b[1;33m\u001b[0m\u001b[0m\n\u001b[0;32m      7\u001b[0m     \u001b[0mp_acc\u001b[0m\u001b[1;33m=\u001b[0m\u001b[0mnp\u001b[0m\u001b[1;33m.\u001b[0m\u001b[0mexp\u001b[0m\u001b[1;33m(\u001b[0m\u001b[0mp_i\u001b[0m \u001b[1;33m-\u001b[0m \u001b[0mp_0\u001b[0m\u001b[1;33m)\u001b[0m\u001b[1;33m\u001b[0m\u001b[0m\n",
      "\u001b[1;32m<ipython-input-61-027ed88d18d5>\u001b[0m in \u001b[0;36mlnlike\u001b[1;34m(theta)\u001b[0m\n\u001b[0;32m      8\u001b[0m \u001b[1;33m\u001b[0m\u001b[0m\n\u001b[0;32m      9\u001b[0m \u001b[1;32mdef\u001b[0m \u001b[0mlnlike\u001b[0m\u001b[1;33m(\u001b[0m\u001b[0mtheta\u001b[0m\u001b[1;33m)\u001b[0m\u001b[1;33m:\u001b[0m\u001b[1;33m\u001b[0m\u001b[0m\n\u001b[1;32m---> 10\u001b[1;33m     \u001b[0mmodel\u001b[0m \u001b[1;33m=\u001b[0m \u001b[0mmu\u001b[0m\u001b[1;33m(\u001b[0m\u001b[0mdata\u001b[0m\u001b[1;33m[\u001b[0m\u001b[1;36m0\u001b[0m\u001b[1;33m]\u001b[0m\u001b[1;33m,\u001b[0m\u001b[0mtheta\u001b[0m\u001b[1;33m[\u001b[0m\u001b[1;36m0\u001b[0m\u001b[1;33m]\u001b[0m\u001b[1;33m,\u001b[0m\u001b[0mtheta\u001b[0m\u001b[1;33m[\u001b[0m\u001b[1;36m1\u001b[0m\u001b[1;33m]\u001b[0m\u001b[1;33m)\u001b[0m\u001b[1;33m\u001b[0m\u001b[0m\n\u001b[0m\u001b[0;32m     11\u001b[0m     \u001b[0mdiff\u001b[0m \u001b[1;33m=\u001b[0m \u001b[0mdata\u001b[0m\u001b[1;33m[\u001b[0m\u001b[1;36m1\u001b[0m\u001b[1;33m]\u001b[0m\u001b[1;33m-\u001b[0m\u001b[0mmodel\u001b[0m\u001b[1;33m\u001b[0m\u001b[0m\n\u001b[0;32m     12\u001b[0m     \u001b[0mtmp\u001b[0m \u001b[1;33m=\u001b[0m \u001b[1;36m0.\u001b[0m\u001b[1;33m\u001b[0m\u001b[0m\n",
      "\u001b[1;31mNameError\u001b[0m: name 'data' is not defined"
     ]
    }
   ],
   "source": [
    "def CaDeMa(theta_0,theta_i):\n",
    "    if (lnprior(theta_i)):\n",
    "       return theta_0\n",
    "    p_0=lnlike(theta_0)\n",
    "    p_i=lnlike(theta_i)\n",
    "    p_acc=np.exp(p_i - p_0)\n",
    "    p_acc=min(1.,p_acc)\n",
    "    if (p_acc>x):\n",
    "        return theta_i\n",
    "    else:\n",
    "        return theta_0\n",
    "    return \n",
    "    "
   ]
  },
  {
   "cell_type": "code",
   "execution_count": null,
   "metadata": {},
   "outputs": [],
   "source": [
    "NumMuestras=100\n",
    "Sigma_0=1\n",
    "Sigma_1=0.1\n",
    "\n",
    "NumCadenas=10\n",
    "\n",
    "theta_0=[50.,0.3]\n",
    "cadena=[]\n",
    "for j in range(NumCadenas):\n",
    "    theta_0=np.array([np.random.normal(theta_0[0],Sigma_0),np.random.normal(theta_0[1],Sigma_1)])\n",
    "for i in range(NumMuestras):\n",
    "       if i==0:\n",
    "        cadena = theta_0\n",
    "        else:\n",
    "            theta_i=np.array([np.random.normal(theta_0[0],Sigma_0),np.random.normal(theta_0[1],Sigma_1)])\n",
    "            theta_nueva=CaDeMa(theta_0,theta_i)\n",
    "            cadena=np.concatenate((cadena,theta_nueva))\n",
    "            theta_0=theta_nueva\n",
    "if j==0:\n",
    "    cadenas=cadena\n",
    "else:\n",
    "    cadena=np.vstack(cadenas,cadena)"
   ]
  }
 ],
 "metadata": {
  "kernelspec": {
   "display_name": "Python 3",
   "language": "python",
   "name": "python3"
  },
  "language_info": {
   "codemirror_mode": {
    "name": "ipython",
    "version": 3
   },
   "file_extension": ".py",
   "mimetype": "text/x-python",
   "name": "python",
   "nbconvert_exporter": "python",
   "pygments_lexer": "ipython3",
   "version": "3.6.5"
  }
 },
 "nbformat": 4,
 "nbformat_minor": 2
}
