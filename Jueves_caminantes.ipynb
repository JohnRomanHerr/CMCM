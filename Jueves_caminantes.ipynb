{
 "cells": [
  {
   "cell_type": "code",
   "execution_count": 84,
   "metadata": {},
   "outputs": [],
   "source": [
    "import random #números aleatorios\n",
    "import math #funciones matematicas estandar.\n",
    "from matplotlib import pyplot as plt #Para visualizaciones y gráficos.\n",
    "import numpy as np #funciones estadísticas \n",
    "import seaborn as sns # para realizar gráficos estadísticos.\n",
    "from mpl_toolkits.mplot3d import axes3d #graficas en 3D\n",
    "import pandas as pd\n",
    "import numpy as np\n",
    "import matplotlib.pyplot as plt\n",
    "% matplotlib inline "
   ]
  },
  {
   "cell_type": "markdown",
   "metadata": {},
   "source": [
    "Generar datos"
   ]
  },
  {
   "cell_type": "code",
   "execution_count": 85,
   "metadata": {},
   "outputs": [],
   "source": [
    "Num= 20 #numero de datos\n",
    "C_i= 0. #cota inferior\n",
    "C_s= 10. #Cota superior\n",
    "\n",
    "a = np.random.uniform(C_i, C_s, Num)\n",
    "#print(a)\n",
    "a.sort()\n",
    "x=a\n",
    "#print(x)\n",
    "d = np.random.uniform(0.0,0.5,len(x))\n",
    "y = x+d\n",
    "# para sus barras de error\n",
    "x_e=np.random.normal(0.1,0.3,len(x))\n",
    "y_e=np.random.normal(0.1,0.4,len(y))\n",
    "# graficar\n",
    "#plt.plot(x,y,'o',color='b')\n",
    "#plt.errorbar(x,y,xerr=x_e,yerr=y_e,fmt='ms',ecolor='r')\n",
    "#plt.grid(True)\n",
    "#print(x)"
   ]
  },
  {
   "cell_type": "markdown",
   "metadata": {},
   "source": [
    "Minimos cuadrados manera analitica"
   ]
  },
  {
   "cell_type": "code",
   "execution_count": 86,
   "metadata": {},
   "outputs": [
    {
     "name": "stdout",
     "output_type": "stream",
     "text": [
      "Con los daatos siguientes;\n",
      "Valores de x: [0.70661752 2.32361409 2.34460986 2.77279884 2.91322916 3.061962\n",
      " 3.70353359 3.83413221 3.89896907 5.34616334 5.9834926  6.05860034\n",
      " 6.77368443 7.13271074 7.38374207 8.36937439 9.07609777 9.26066143\n",
      " 9.67546445 9.88710075]\n",
      "Valores de y: [ 0.80869197  2.7042553   2.77188128  2.98582477  3.19365772  3.54336671\n",
      "  3.70600418  3.8482837   4.107074    5.5168878   6.28073921  6.55826745\n",
      "  6.97411327  7.51434791  7.5894927   8.49480808  9.3093959   9.60173517\n",
      " 10.00592725 10.14348914]\n",
      "-----------------------------------------------\n",
      "Obtenamos la recta siguiente;\n",
      "Pendiente real: 1.004119594464042\n",
      "Ordenada real: 0.23482213220072157\n"
     ]
    },
    {
     "data": {
      "text/plain": [
       "<function matplotlib.pyplot.show(*args, **kw)>"
      ]
     },
     "execution_count": 86,
     "metadata": {},
     "output_type": "execute_result"
    },
    {
     "data": {
      "image/png": "[encoded data removed]",
      "text/plain": [
       "<Figure size 432x288 with 1 Axes>"
      ]
     },
     "metadata": {},
     "output_type": "display_data"
    }
   ],
   "source": [
    "x2 = [(dato)**2 for dato in x]\n",
    "xs=sum(x)\n",
    "xss=sum(x2)\n",
    "\n",
    "y2 = [(dato)**2 for dato in y]\n",
    "ys=sum(y)\n",
    "yss=sum(y2)\n",
    "xy=0 \n",
    "count = 0\n",
    "while count < len(x):\n",
    "         s=x[count]*y[count]\n",
    "         xy=s+xy\n",
    "         count=count+1\n",
    "\n",
    "ordenada=(ys*xss-xs*xy)/(len(x)*xss-xs*xs)\n",
    "pendiente=(len(x)*xy-xs*ys)/(len(x)*xss-xs*xs)\n",
    "\n",
    "\n",
    "print(\"Con los daatos siguientes;\")\n",
    "print(\"Valores de x:\",x)\n",
    "print (\"Valores de y:\",y)\n",
    "print(\"-----------------------------------------------\")\n",
    "print(\"Obtenamos la recta siguiente;\")\n",
    "print(\"Pendiente real:\",pendiente)\n",
    "print(\"Ordenada real:\",ordenada)\n",
    "\n",
    "m=pendiente\n",
    "b=ordenada\n",
    "\n",
    "xx=np.random.uniform(min(x),max(x),1000)\n",
    "plt.plot(x,y,'o',label='Datos',color='purple')\n",
    "plt.plot(xx,m*xx+b,label='Ajuste',color='green')\n",
    "plt.errorbar(x,y,xerr=x_e,yerr=y_e,fmt='ms',ecolor='r')\n",
    "plt.xlabel('x')\n",
    "plt.ylabel('y')\n",
    "plt.title('Ajuste de minimos cuadrados')\n",
    "plt.legend()\n",
    "plt.show"
   ]
  },
  {
   "cell_type": "markdown",
   "metadata": {},
   "source": [
    "Proponemos unos estimados para que los caminadores comiencen a buscar, en base a los datos que ya conocemos"
   ]
  },
  {
   "cell_type": "code",
   "execution_count": 87,
   "metadata": {},
   "outputs": [],
   "source": [
    "# Valores m y b inicio\n",
    "m = m + np.random.uniform(0.0,0.5,1)\n",
    "b = b + np.random.uniform(0.0,0.5,1)\n",
    "# Cadenas\n",
    "ncad = 7 \n",
    "steps = 10000\n",
    "# Fit 1 para fit linear \n",
    "y1 = np.polyfit(x, y, 1) \n",
    "parame= np.poly1d(y1)\n",
    "# Tamaño de los pasos (sigmas)\n",
    "pasom = 1\n",
    "pasob = 1\n"
   ]
  },
  {
   "cell_type": "markdown",
   "metadata": {},
   "source": [
    "Aproximacion de minimos cuadrados por libreria"
   ]
  },
  {
   "cell_type": "code",
   "execution_count": 92,
   "metadata": {},
   "outputs": [],
   "source": [
    "# Funcion para graficar las barras de error de los datos\n",
    "#def ploterry(x, y, x_e, y_e):\n",
    " #   plt.errorbar(x, y, yerr=y_e, fmt='+', color='r')\n",
    "     \n",
    "# Modelo \n",
    "def plot_line(b, m, **kwargs):\n",
    "    p = plt.plot(x, parame(x), 'r', alpha=0.5, **kwargs)\n",
    "    plt.show()\n",
    "    return p\n",
    "#Minimos cuadrados con libreras\n",
    "def leastsq(x, y):\n",
    "    print ('Ajuste usando minimos cuadrados')\n",
    "    y1 = np.polyfit(x, y, 1) # se usara la funcion fit por facilidad, el 1 al final denota un fit linear \n",
    "    parame= np.poly1d(y1)  #Crea un polinomio, es decir proveniente del fit  \n",
    "    plt.plot(x,y,'o', markersize=5)  # grafica los puntos de los datos \n",
    "    plt.plot(x, parame(x)) # grafica el fit\n",
    "    print ('b,m =', parame)\n",
    "    (m, b) = parame\n",
    "    print\n",
    "    return (m, b)"
   ]
  },
  {
   "cell_type": "code",
   "execution_count": 101,
   "metadata": {},
   "outputs": [
    {
     "name": "stdout",
     "output_type": "stream",
     "text": [
      "Ajuste usando minimos cuadrados\n",
      "b,m =  \n",
      "1.004 x + 0.2348\n"
     ]
    },
    {
     "data": {
      "image/png": "[encoded data removed]",
      "text/plain": [
       "<Figure size 432x288 with 1 Axes>"
      ]
     },
     "metadata": {},
     "output_type": "display_data"
    },
    {
     "data": {
      "text/plain": [
       "[<matplotlib.lines.Line2D at 0x9457e30>]"
      ]
     },
     "execution_count": 101,
     "metadata": {},
     "output_type": "execute_result"
    }
   ],
   "source": [
    "# Minimmos cuadrados sin tener en cuenta  el error\n",
    "(m, b) = leastsq(x, y)\n",
    "plt.title('Ajuste por minimos cuadrados (liberias)')\n",
    "plt.plot(x,y,'o',label='Datos',color='purple')\n",
    "plot_line(m, b)"
   ]
  },
  {
   "cell_type": "markdown",
   "metadata": {},
   "source": [
    "Definiciones importantes"
   ]
  },
  {
   "cell_type": "code",
   "execution_count": 94,
   "metadata": {},
   "outputs": [],
   "source": [
    "# Likehood Gaussiana para una linea recta\n",
    "def likelihood(x, y, y_e, m, b):\n",
    "    return np.prod(1./(np.sqrt(2.*np.pi) * y_e) * np.exp(-(y - (m * x + b))**2 / (2. * (y_e)**2)))"
   ]
  },
  {
   "cell_type": "code",
   "execution_count": 95,
   "metadata": {},
   "outputs": [],
   "source": [
    "# Prior en base a lo conocido por el metodo anlaitico\n",
    "def prior(m,b):\n",
    "    if ((0. < m <2.) and (0. < b < 0.5)):\n",
    "        return 0.\n",
    "    else:\n",
    "        return -np.infty\n",
    "    return "
   ]
  },
  {
   "cell_type": "markdown",
   "metadata": {},
   "source": [
    "Metodo MCMC"
   ]
  },
  {
   "cell_type": "code",
   "execution_count": 96,
   "metadata": {},
   "outputs": [],
   "source": [
    "#  Contador\n",
    "chain = []\n",
    "probs = []"
   ]
  },
  {
   "cell_type": "code",
   "execution_count": 102,
   "metadata": {},
   "outputs": [],
   "source": [
    "for j in range(ncad):\n",
    "    if (j==0): \n",
    "        # Se comienza con las estimaciones iniciales propuesta\n",
    "        minicial = m\n",
    "        binicial = b\n",
    "    elif (j==1):\n",
    "        # Obtenemos los mejores valores de m y b con la probabilidad maxima\n",
    "        mm = [m for m,b in chain]\n",
    "        bb = [b for m,b in chain]\n",
    "        \n",
    "        # Obteniendo los mejores valores de m, b cnon la probabilidad\n",
    "        besti = np.argmax(probs)\n",
    "        bestm = mm[besti]\n",
    "        bestb = bb[besti]        \n",
    "    elif (j>=1):\n",
    "        pasom = 2*np.std(mm)\n",
    "        pasob = 2*np.std(bb) # Redefinimos los sigmas con la desviacione standar de la primera cadena\n",
    "        minicial = np.random.normal(bestm,pasom) # y obtenemos valores aleatorio normales para m y b\n",
    "        binicial = np.random.normal(bestb,pasom)        \n",
    "    for i in range(steps):\n",
    "        # Obteniendo un valor aleatorio normalizado de m y b\n",
    "        mnue = np.random.normal(minicial,pasom)\n",
    "        bnue = np.random.normal(binicial,pasob)      \n",
    "        nueprob = likelihood(x, y, y_e, mnue, bnue) # Probabilidad con los nuevos m y b\n",
    "        vieprob = likelihood(x, y, y_e, minicial, binicial)# Probabilidad de m y b iniciales  \n",
    "        lnprior = prior(mnue,bnue) # Obteniendo valor de prior para los m y b nuevos      \n",
    "        if (lnprior == 0.):\n",
    "            nueprob = nueprob \n",
    "        else:\n",
    "            nueprob = nueprob + lnprior\n",
    "            \n",
    "        # Se elige la probabilidades adecuaca para m\n",
    "        if (nueprob/vieprob > 1):\n",
    "            minicial = mnue\n",
    "            binicial = bnue\n",
    "            prob = nueprob\n",
    "        else:\n",
    "            probtest = np.random.uniform(0,1)\n",
    "            if (probtest> nueprob/vieprob):\n",
    "                prob = vieprob\n",
    "            else:\n",
    "                minicial = mnue\n",
    "                binicial = bnue\n",
    "                prob = nueprob\n",
    "                \n",
    "        \n",
    "        chain.append((minicial,binicial))\n",
    "        probs.append(prob)"
   ]
  },
  {
   "cell_type": "markdown",
   "metadata": {},
   "source": [
    "Graficamos"
   ]
  },
  {
   "cell_type": "code",
   "execution_count": 99,
   "metadata": {},
   "outputs": [
    {
     "name": "stderr",
     "output_type": "stream",
     "text": [
      "No handles with labels found to put in legend.\n"
     ]
    },
    {
     "data": {
      "image/png": "[encoded data removed]",
      "text/plain": [
       "<Figure size 432x288 with 1 Axes>"
      ]
     },
     "metadata": {},
     "output_type": "display_data"
    }
   ],
   "source": [
    "mm = [m for m,b in chain]\n",
    "bb = [b for m,b in chain]\n",
    "plt.scatter(mm, bb, s=3, lw = 0)\n",
    "# Mejor valor obtenido de m y b\n",
    "plt.plot(label='Best m,b',markersize=5, markerfacecolor='r') #plt.plot(bestm, bestb, 'ko', label='Best m,b',markersize=5, markerfacecolor='r')\n",
    "plt.xlabel('m')\n",
    "plt.ylabel('b')\n",
    "plt.title('Valores de m y b obtenidos con Metropolis')\n",
    "plt.legend()\n",
    "plt.show()"
   ]
  },
  {
   "cell_type": "markdown",
   "metadata": {},
   "source": [
    "Evolucion de la pendiente y ordendada"
   ]
  },
  {
   "cell_type": "code",
   "execution_count": 100,
   "metadata": {},
   "outputs": [
    {
     "name": "stderr",
     "output_type": "stream",
     "text": [
      "No handles with labels found to put in legend.\n"
     ]
    },
    {
     "data": {
      "image/png": "[encoded data removed]",
      "text/plain": [
       "<Figure size 432x288 with 2 Axes>"
      ]
     },
     "metadata": {},
     "output_type": "display_data"
    }
   ],
   "source": [
    "plt.clf()\n",
    "plt.title('Graficas de muestreo para las cadenas consecutivas')\n",
    "plt.subplot(2,1,1)\n",
    "plt.plot(mm, 'g.')\n",
    "plt.ylabel('m')\n",
    "plt.subplot(2,1,2)\n",
    "plt.plot(bb, 'r.')\n",
    "plt.ylabel('b')\n",
    "plt.legend()\n",
    "plt.show()"
   ]
  },
  {
   "cell_type": "code",
   "execution_count": null,
   "metadata": {},
   "outputs": [],
   "source": []
  }
 ],
 "metadata": {
  "kernelspec": {
   "display_name": "Python 3",
   "language": "python",
   "name": "python3"
  },
  "language_info": {
   "codemirror_mode": {
    "name": "ipython",
    "version": 3
   },
   "file_extension": ".py",
   "mimetype": "text/x-python",
   "name": "python",
   "nbconvert_exporter": "python",
   "pygments_lexer": "ipython3",
   "version": "3.6.5"
  }
 },
 "nbformat": 4,
 "nbformat_minor": 2
}
